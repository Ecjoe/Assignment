{
  "cells": [
    {
      "cell_type": "code",
      "execution_count": null,
      "metadata": {
        "id": "ksy8XfIcQTeN"
      },
      "outputs": [],
      "source": [
        "%%capture\n",
        "!pip install yfinance --upgrade"
      ]
    },
    {
      "cell_type": "code",
      "execution_count": null,
      "metadata": {
        "id": "r9J7Fjo4P3xB"
      },
      "outputs": [],
      "source": [
        "# import required libraries\n",
        "import pandas as pd\n",
        "import numpy as np\n",
        "import matplotlib.pyplot as plt\n",
        "import yfinance as yf\n",
        "%matplotlib inline"
      ]
    },
    {
      "cell_type": "code",
      "execution_count": null,
      "metadata": {
        "id": "zoCVDDCNQLEE"
      },
      "outputs": [],
      "source": [
        "# required dates and tickers\n",
        "start_date = \"2020-01-01\"\n",
        "end_date = \"2024-12-31\"\n",
        "\n",
        "tickers = ['AMZN', 'AAPL']"
      ]
    },
    {
      "cell_type": "code",
      "execution_count": null,
      "metadata": {
        "colab": {
          "base_uri": "https://localhost:8080/"
        },
        "id": "Ro3VCeMTRAFb",
        "outputId": "7c089a82-bf6b-42f7-a1ba-2fa8c60a389c"
      },
      "outputs": [],
      "source": [
        "# calculating night returns, log night returns and merging into a single dataaframe\n",
        "df = {}\n",
        "\n",
        "for _ticker in tickers:\n",
        "  data = yf.download(_ticker, start_date, end_date)\n",
        "  data = data[['Open', 'Close']]\n",
        "  data['night_returns'] = (data['Open'] - data['Close'].shift(1)) / data['Close'].shift(1)\n",
        "  data['log_night_returns'] =  np.log(1 + data['night_returns'])\n",
        "  data = data.dropna()\n",
        "  df[_ticker] = data"
      ]
    },
    {
      "cell_type": "code",
      "execution_count": null,
      "metadata": {
        "id": "fDSpLe_xTBqK"
      },
      "outputs": [],
      "source": [
        "# transform prev dataaframe into a ticker daataframe i.e. addition of a column ticker\n",
        "ret = []\n",
        "for _ticker, data in df.items():\n",
        "  data['Ticker'] = _ticker\n",
        "  ret.append(data[['log_night_returns', 'Ticker']])\n",
        "returns = pd.concat(ret)"
      ]
    },
    {
      "cell_type": "code",
      "execution_count": null,
      "metadata": {
        "colab": {
          "base_uri": "https://localhost:8080/",
          "height": 486
        },
        "id": "hIBKVsqUUNUA",
        "outputId": "ff459528-59e1-4df6-f783-406ee533981a"
      },
      "outputs": [],
      "source": [
        "returns"
      ]
    },
    {
      "cell_type": "code",
      "execution_count": null,
      "metadata": {
        "colab": {
          "base_uri": "https://localhost:8080/"
        },
        "id": "Wk4EcXsaYa4J",
        "outputId": "d8863965-5e91-40d9-f200-ce5255d937e0"
      },
      "outputs": [],
      "source": [
        "returns.columns"
      ]
    },
    {
      "cell_type": "code",
      "execution_count": null,
      "metadata": {
        "id": "CRbIjTDQYaQa"
      },
      "outputs": [],
      "source": [
        "# changint the multiindex dataframe to datafram by dropping ticker level\n",
        "returns = returns.droplevel('Ticker', axis=1)\n",
        "returns.columns.name=None"
      ]
    },
    {
      "cell_type": "code",
      "execution_count": null,
      "metadata": {
        "colab": {
          "base_uri": "https://localhost:8080/",
          "height": 238
        },
        "id": "jLXYCM_FYqry",
        "outputId": "8c5267a9-9aa0-4800-da2b-5921768a953e"
      },
      "outputs": [],
      "source": [
        "returns.head()"
      ]
    },
    {
      "cell_type": "code",
      "execution_count": null,
      "metadata": {
        "id": "Jjk4ZWbOUN9Q"
      },
      "outputs": [],
      "source": [
        "# calculating portfolio returns and cumulative returns\n",
        "returns['port_ret'] = returns.groupby(returns.index)['log_night_returns'].mean()\n",
        "returns['cum_return'] = (1 + returns['port_ret']).cumprod()"
      ]
    },
    {
      "cell_type": "code",
      "execution_count": null,
      "metadata": {
        "colab": {
          "base_uri": "https://localhost:8080/",
          "height": 238
        },
        "id": "1wI04MrUaNbD",
        "outputId": "8a6de63f-4004-4188-c9d0-9754e0e7f404"
      },
      "outputs": [],
      "source": [
        "returns.head()"
      ]
    },
    {
      "cell_type": "code",
      "execution_count": null,
      "metadata": {
        "colab": {
          "base_uri": "https://localhost:8080/"
        },
        "id": "2BQumPHVaz7U",
        "outputId": "b8c75987-25e8-419d-a7b6-0bba3512976a"
      },
      "outputs": [],
      "source": [
        "# calculate sharpe ratio\n",
        "sharpe_ratio = returns['port_ret'].mean() / (returns['port_ret'].std() * np.sqrt(252))\n",
        "print(sharpe_ratio)"
      ]
    },
    {
      "cell_type": "code",
      "execution_count": null,
      "metadata": {
        "colab": {
          "base_uri": "https://localhost:8080/"
        },
        "id": "JPri36CBbfhv",
        "outputId": "dca59719-ac90-4922-81c8-69ba67e8e40b"
      },
      "outputs": [],
      "source": [
        "# calculate max drawdown\n",
        "max_drawdown = ((returns['cum_return'] / returns['cum_return'].cummax()) - 1).min()\n",
        "print(max_drawdown)"
      ]
    },
    {
      "cell_type": "code",
      "execution_count": null,
      "metadata": {
        "colab": {
          "base_uri": "https://localhost:8080/",
          "height": 545
        },
        "id": "OW0Lt-fXbwBO",
        "outputId": "0cd23221-6472-48c1-de2f-1940736746a0"
      },
      "outputs": [],
      "source": [
        "plt.figure(figsize=(10, 6))\n",
        "plt.plot(returns['cum_return'], label='Cumulative Return')\n",
        "plt.title('PnL Curve')\n",
        "plt.legend()\n",
        "plt.show()"
      ]
    },
    {
      "cell_type": "code",
      "execution_count": null,
      "metadata": {
        "colab": {
          "base_uri": "https://localhost:8080/",
          "height": 537
        },
        "id": "dym1Z54alqrs",
        "outputId": "d585eb49-0e0d-413b-875f-5be0b5dc6c12"
      },
      "outputs": [],
      "source": [
        "# plotting drawdown\n",
        "plt.figure(figsize=(10, 6))\n",
        "drawdown = (returns['cum_return'] / returns['cum_return'].cummax()) - 1\n",
        "plt.plot(drawdown, label='Drawdown', color='red')\n",
        "plt.title('Max Drawdown')\n",
        "plt.legend()\n",
        "plt.show()"
      ]
    },
    {
      "cell_type": "code",
      "execution_count": null,
      "metadata": {
        "colab": {
          "base_uri": "https://localhost:8080/",
          "height": 238
        },
        "id": "OaUhgGR_b1Z8",
        "outputId": "fb1e1339-36a4-4251-ceff-485d2f727263"
      },
      "outputs": [],
      "source": [
        "returns.head()"
      ]
    },
    {
      "cell_type": "code",
      "execution_count": null,
      "metadata": {
        "id": "4Q7ujfReeLVA"
      },
      "outputs": [],
      "source": [
        "# calculaating winners and losers\n",
        "win = (returns['port_ret'] > 0).sum()\n",
        "losers = (returns['port_ret']<0).sum()"
      ]
    },
    {
      "cell_type": "code",
      "execution_count": null,
      "metadata": {
        "colab": {
          "base_uri": "https://localhost:8080/"
        },
        "id": "tv2OkAymehz2",
        "outputId": "c7d562c0-f4e0-4007-bbe5-45953931c69c"
      },
      "outputs": [],
      "source": [
        "print(win+losers == returns.shape[0])\n",
        "print(win, losers)"
      ]
    },
    {
      "cell_type": "code",
      "execution_count": null,
      "metadata": {
        "colab": {
          "base_uri": "https://localhost:8080/"
        },
        "id": "mSaSZ7zaiMjq",
        "outputId": "166cac26-4ada-4638-d289-9dbcb95f66e7"
      },
      "outputs": [],
      "source": [
        "# calculating profit facor by using positive and negative returns\n",
        "pos_ret = returns[returns['port_ret'] > 0]['port_ret'].sum()\n",
        "neg_ret =  abs(returns[returns['port_ret'] <= 0]['port_ret'].sum())\n",
        "\n",
        "profit_factor = pos_ret / neg_ret\n",
        "print(profit_factor)"
      ]
    },
    {
      "cell_type": "markdown",
      "metadata": {
        "id": "-WuiLW-jBO76"
      },
      "source": [
        "\n",
        "\n",
        "```\n",
        "Improvements for this strategy\n",
        "1. Addition of risk free ratio for sharp ratio adjustment.\n",
        "2. Add stoploss mechanism.\n",
        "3. Add machine learning based strategy to predict overnight returns.\n",
        "4.\n",
        "```\n",
        "\n"
      ]
    },
    {
      "cell_type": "code",
      "execution_count": null,
      "metadata": {
        "id": "qM6rpk-gBWMm"
      },
      "outputs": [],
      "source": []
    }
  ],
  "metadata": {
    "colab": {
      "provenance": []
    },
    "kernelspec": {
      "display_name": "base",
      "language": "python",
      "name": "python3"
    },
    "language_info": {
      "name": "python",
      "version": "3.12.7"
    }
  },
  "nbformat": 4,
  "nbformat_minor": 0
}
