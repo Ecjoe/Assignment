{
  "cells": [
    {
      "cell_type": "code",
      "execution_count": null,
      "metadata": {
        "id": "uAsv4ExTjbt0"
      },
      "outputs": [],
      "source": [
        "%%capture\n",
        "!pip install yfinance --upgrade"
      ]
    },
    {
      "cell_type": "code",
      "execution_count": null,
      "metadata": {
        "id": "-TDI-t2diZA6"
      },
      "outputs": [],
      "source": [
        "# import required libraries\n",
        "import numpy as np\n",
        "import pandas as pd\n",
        "import yfinance as yf\n",
        "import matplotlib.pyplot as plt\n",
        "%matplotlib inline"
      ]
    },
    {
      "cell_type": "code",
      "execution_count": null,
      "metadata": {
        "id": "CwdS8ySSixcD"
      },
      "outputs": [],
      "source": [
        "# required data\n",
        "start_date = '2020-01-01'\n",
        "end_date = '2024-12-31'"
      ]
    },
    {
      "cell_type": "code",
      "execution_count": null,
      "metadata": {
        "colab": {
          "base_uri": "https://localhost:8080/"
        },
        "id": "zMJdncoRi-NC",
        "outputId": "819d0b25-0b6a-480b-a5fa-caef7099a7c2"
      },
      "outputs": [],
      "source": [
        "# downloading assets\n",
        "pepsi = yf.download(\"PEP\", start=start_date, end=end_date)['Close']\n",
        "coke = yf.download(\"KO\", start=start_date, end=end_date)['Close']"
      ]
    },
    {
      "cell_type": "code",
      "execution_count": null,
      "metadata": {
        "colab": {
          "base_uri": "https://localhost:8080/",
          "height": 206
        },
        "id": "4pul2OWZjMSI",
        "outputId": "f6968be0-10a5-4781-d52c-e4b165795ee7"
      },
      "outputs": [],
      "source": [
        "# creating a single dataframe by combining these two assets\n",
        "df = pd.DataFrame()\n",
        "\n",
        "df['pepsi'] = pepsi\n",
        "df['coke'] = coke\n",
        "\n",
        "df.reset_index(inplace=True)\n",
        "df.head()"
      ]
    },
    {
      "cell_type": "code",
      "execution_count": null,
      "metadata": {
        "id": "rPbRZIosjvv1"
      },
      "outputs": [],
      "source": [
        "# calculating spread and ratio\n",
        "\n",
        "df['ratio'] = df['pepsi'] / df['coke']\n",
        "df['spread'] = df['pepsi'] - df['coke']"
      ]
    },
    {
      "cell_type": "code",
      "execution_count": null,
      "metadata": {
        "id": "AfDFsUSqjz33"
      },
      "outputs": [],
      "source": [
        "# calculating zscore by using mean and standard deviation from spread\n",
        "def z_score(ser):\n",
        "  return (ser - ser.mean()) /  ser.std()\n",
        "\n",
        "df['z_score'] = z_score(df['spread'])"
      ]
    },
    {
      "cell_type": "code",
      "execution_count": null,
      "metadata": {
        "colab": {
          "base_uri": "https://localhost:8080/",
          "height": 206
        },
        "id": "oPuMOXKWVLPh",
        "outputId": "75602b36-4b27-4655-ff97-6839c5c64742"
      },
      "outputs": [],
      "source": [
        "df.head()"
      ]
    },
    {
      "cell_type": "code",
      "execution_count": null,
      "metadata": {
        "colab": {
          "base_uri": "https://localhost:8080/",
          "height": 452
        },
        "id": "UlrpHOViFASU",
        "outputId": "4babe3aa-6840-4fd2-fbb2-9d078c293836"
      },
      "outputs": [],
      "source": [
        "# checking zscore distribution to determine entry_pos and exit pos  by using skewness\n",
        "plt.hist(df[\"z_score\"], bins=50)\n",
        "plt.title(\"Z-Score Distribution\")\n",
        "plt.show()"
      ]
    },
    {
      "cell_type": "code",
      "execution_count": null,
      "metadata": {
        "id": "fxGECDwYj5-3"
      },
      "outputs": [],
      "source": [
        "#entry_pos reduced to 1.5 from 2 due to too much skewed on positive 2 side\n",
        "entry_pos = 1.5\n",
        "exit_pos = -2"
      ]
    },
    {
      "cell_type": "code",
      "execution_count": null,
      "metadata": {
        "id": "N1ER-KpFlmib"
      },
      "outputs": [],
      "source": [
        "# creating long and short positions by using zscore\n",
        "df['long'] = df['z_score'] < -entry_pos\n",
        "df['short'] = df['z_score'] > entry_pos\n",
        "\n",
        "df['exit'] = abs(df['z_score']) < exit_pos"
      ]
    },
    {
      "cell_type": "code",
      "execution_count": null,
      "metadata": {
        "colab": {
          "base_uri": "https://localhost:8080/",
          "height": 206
        },
        "id": "mOGHcHDOFAVP",
        "outputId": "c5035dc6-96f2-448e-a64f-4120be2a21b1"
      },
      "outputs": [],
      "source": [
        "df.head()"
      ]
    },
    {
      "cell_type": "code",
      "execution_count": null,
      "metadata": {
        "colab": {
          "base_uri": "https://localhost:8080/",
          "height": 467
        },
        "id": "eCTfhcqLDi8N",
        "outputId": "19c86ab0-e181-4692-8be2-7c47f6d375db"
      },
      "outputs": [],
      "source": [
        "# plotting z_score with thresholds\n",
        "\n",
        "plt.figure(figsize=(10, 5))\n",
        "\n",
        "plt.plot(df.Date, df[\"z_score\"], label=\"z_score\", color=\"blue\") # z-score plot\n",
        "\n",
        "plt.axhline(entry_pos, color=\"red\", linestyle=\"--\", label=\"short Threshold\") # short_threshold\n",
        "plt.axhline(-entry_pos, color=\"green\", linestyle=\"--\", label=\"long Threshold\") #  long_threshold\n",
        "plt.axhline(exit_pos, color=\"black\", linestyle=\"dotted\", label=\"Exit Threshold\") #  exit_threshold\n",
        "plt.axhline(-exit_pos, color=\"black\", linestyle=\"dotted\") # exit_threshold\n",
        "\n",
        "plt.legend()\n",
        "\n",
        "plt.title(\"z_score\")\n",
        "\n",
        "plt.show()"
      ]
    },
    {
      "cell_type": "code",
      "execution_count": null,
      "metadata": {
        "colab": {
          "base_uri": "https://localhost:8080/",
          "height": 487
        },
        "id": "qPim7RTHEHlE",
        "outputId": "8112309b-78bd-4776-af9f-4fa9e0ffe3e8"
      },
      "outputs": [],
      "source": [
        "# plotting of trading positions with prices of assets\n",
        "\n",
        "plt.figure(figsize=(10, 5))\n",
        "\n",
        "# pepsi and coke prices\n",
        "plt.plot(df.Date, df[\"pepsi\"], label=\"Pepsi\", color=\"blue\")\n",
        "plt.plot(df.Date, df[\"coke\"], label=\"Coke\", color=\"orange\")\n",
        "\n",
        "# long entries of pepsi and cokae\n",
        "plt.scatter(df.Date[df[\"long\"]], df[\"pepsi\"][df[\"long\"]], color=\"green\", label=\"Pepsi Long Entry\", marker=\"^\", s=100)\n",
        "plt.scatter(df.Date[df[\"long\"]], df[\"coke\"][df[\"long\"]], color=\"green\", marker=\"^\", s=100, edgecolors=\"black\", label=\"Coke Long Entry\")\n",
        "plt.legend()\n",
        "\n",
        "# short entries of pepsi and coke\n",
        "plt.scatter(df.Date[df[\"short\"]], df[\"pepsi\"][df[\"short\"]], color=\"red\", label=\"Pepsi Short Entry\", marker=\"v\", s=100)\n",
        "plt.scatter(df.Date[df[\"short\"]], df[\"coke\"][df[\"short\"]], color=\"red\", marker=\"v\", s=100, edgecolors=\"black\", label=\"Coke Short Entry\")\n",
        "plt.legend()\n",
        "\n",
        "# Exits\n",
        "# plt.scatter(df.Date[df[\"exit\"]], df[\"pepsi\"][df[\"exit\"]], color=\"yellow\", marker=\"o\", s=150, edgecolors=\"black\", label=\"Pepsi Exit\")\n",
        "# plt.scatter(df.Date[df[\"exit\"]], df[\"coke\"][df[\"exit\"]], color=\"yellow\", marker=\"o\", s=150, edgecolors=\"red\", label=\"Coke Exit\")\n",
        "# plt.legend()\n",
        "\n",
        "plt.legend()\n",
        "\n",
        "plt.title(\"Stock Prices with Trading Positions and Spread\")\n",
        "\n",
        "plt.xlabel(\"Date\")\n",
        "plt.ylabel(\"Stock Price\")\n",
        "\n",
        "plt.show()"
      ]
    },
    {
      "cell_type": "code",
      "execution_count": null,
      "metadata": {
        "id": "fQs3EIw7Cmmx"
      },
      "outputs": [],
      "source": []
    }
  ],
  "metadata": {
    "colab": {
      "provenance": []
    },
    "kernelspec": {
      "display_name": "Python 3",
      "name": "python3"
    },
    "language_info": {
      "name": "python"
    }
  },
  "nbformat": 4,
  "nbformat_minor": 0
}
